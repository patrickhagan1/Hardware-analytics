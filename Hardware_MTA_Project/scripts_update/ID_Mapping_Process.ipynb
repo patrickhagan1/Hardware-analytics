{
 "cells": [
  {
   "cell_type": "code",
   "execution_count": 2,
   "metadata": {},
   "outputs": [],
   "source": [
    "import pandas as pd\n",
    "from collections import defaultdict"
   ]
  },
  {
   "cell_type": "code",
   "execution_count": 31,
   "metadata": {},
   "outputs": [],
   "source": [
    "def generate_mapping_dict(filename='./placement_mapping.csv', keys=['site_id_dcm', 'placement_id'], values=['Site_name', 'Tactic', 'Device', 'Targeting']):\n",
    "    df = pd.read_csv(filename)\n",
    "    #site_id_mapping, placement_id_mapping = defaultdict(dict), defaultdict(dict)\n",
    "    site_and_placement_id_mapping = defaultdict(lambda: defaultdict(dict))\n",
    "    for key in keys:\n",
    "        for value in values:\n",
    "            mapping = df.set_index(key).to_dict()[value]\n",
    "            for k in mapping:\n",
    "                site_and_placement_id_mapping[key][k][value] = mapping[k]\n",
    "            \"\"\"\n",
    "            if key == 'site_id_dcm':\n",
    "                for k in mapping:\n",
    "                    site_id_mapping[k][value] = mapping[k]\n",
    "            elif key == 'placement_id':\n",
    "                for k in mapping:\n",
    "                    placement_id_mapping[k][value] = mapping[k]\n",
    "            \"\"\"\n",
    "    return site_and_placement_id_mapping\n",
    "    "
   ]
  },
  {
   "cell_type": "code",
   "execution_count": 32,
   "metadata": {},
   "outputs": [],
   "source": [
    "site_and_placement_id_mapping = generate_mapping_dict()"
   ]
  },
  {
   "cell_type": "code",
   "execution_count": 40,
   "metadata": {},
   "outputs": [
    {
     "data": {
      "text/plain": [
       "{'Site_name': 'GDN',\n",
       " 'Tactic': 'RMKT',\n",
       " 'Device': 'HYB',\n",
       " 'Targeting': 'GDN-RMKT'}"
      ]
     },
     "execution_count": 40,
     "metadata": {},
     "output_type": "execute_result"
    }
   ],
   "source": [
    "site_and_placement_id_mapping['site_id_dcm'][992265]"
   ]
  },
  {
   "cell_type": "code",
   "execution_count": 46,
   "metadata": {},
   "outputs": [],
   "source": [
    "df = pd.read_csv('./markov_2019-11-10_Stadia_Q2Q3.csv')"
   ]
  },
  {
   "cell_type": "code",
   "execution_count": 47,
   "metadata": {},
   "outputs": [],
   "source": [
    "map_to = 'Site_name'\n",
    "df[map_to] = df['channel'].apply(lambda x:site_and_placement_id_mapping['site_id_dcm'][x][map_to])"
   ]
  },
  {
   "cell_type": "code",
   "execution_count": 48,
   "metadata": {},
   "outputs": [
    {
     "data": {
      "text/html": [
       "<div>\n",
       "<style scoped>\n",
       "    .dataframe tbody tr th:only-of-type {\n",
       "        vertical-align: middle;\n",
       "    }\n",
       "\n",
       "    .dataframe tbody tr th {\n",
       "        vertical-align: top;\n",
       "    }\n",
       "\n",
       "    .dataframe thead th {\n",
       "        text-align: right;\n",
       "    }\n",
       "</style>\n",
       "<table border=\"1\" class=\"dataframe\">\n",
       "  <thead>\n",
       "    <tr style=\"text-align: right;\">\n",
       "      <th></th>\n",
       "      <th>channel</th>\n",
       "      <th>attrib_model_convs</th>\n",
       "      <th>Site_name</th>\n",
       "    </tr>\n",
       "  </thead>\n",
       "  <tbody>\n",
       "    <tr>\n",
       "      <th>0</th>\n",
       "      <td>1043393</td>\n",
       "      <td>909.543140</td>\n",
       "      <td>YouTube</td>\n",
       "    </tr>\n",
       "    <tr>\n",
       "      <th>1</th>\n",
       "      <td>1432834</td>\n",
       "      <td>398.530068</td>\n",
       "      <td>Reddit</td>\n",
       "    </tr>\n",
       "    <tr>\n",
       "      <th>2</th>\n",
       "      <td>1570239</td>\n",
       "      <td>3143.088892</td>\n",
       "      <td>YouTube</td>\n",
       "    </tr>\n",
       "    <tr>\n",
       "      <th>3</th>\n",
       "      <td>2597502</td>\n",
       "      <td>75.292368</td>\n",
       "      <td>Twitter</td>\n",
       "    </tr>\n",
       "    <tr>\n",
       "      <th>4</th>\n",
       "      <td>902754</td>\n",
       "      <td>17247.210946</td>\n",
       "      <td>SEM-MSN</td>\n",
       "    </tr>\n",
       "    <tr>\n",
       "      <th>5</th>\n",
       "      <td>992265</td>\n",
       "      <td>19996.334586</td>\n",
       "      <td>GDN</td>\n",
       "    </tr>\n",
       "  </tbody>\n",
       "</table>\n",
       "</div>"
      ],
      "text/plain": [
       "   channel  attrib_model_convs Site_name\n",
       "0  1043393          909.543140   YouTube\n",
       "1  1432834          398.530068    Reddit\n",
       "2  1570239         3143.088892   YouTube\n",
       "3  2597502           75.292368   Twitter\n",
       "4   902754        17247.210946   SEM-MSN\n",
       "5   992265        19996.334586       GDN"
      ]
     },
     "execution_count": 48,
     "metadata": {},
     "output_type": "execute_result"
    }
   ],
   "source": [
    "df"
   ]
  },
  {
   "cell_type": "code",
   "execution_count": null,
   "metadata": {},
   "outputs": [],
   "source": []
  }
 ],
 "metadata": {
  "kernelspec": {
   "display_name": "Python 3",
   "language": "python",
   "name": "python3"
  },
  "language_info": {
   "codemirror_mode": {
    "name": "ipython",
    "version": 3
   },
   "file_extension": ".py",
   "mimetype": "text/x-python",
   "name": "python",
   "nbconvert_exporter": "python",
   "pygments_lexer": "ipython3",
   "version": "3.7.3"
  }
 },
 "nbformat": 4,
 "nbformat_minor": 2
}
