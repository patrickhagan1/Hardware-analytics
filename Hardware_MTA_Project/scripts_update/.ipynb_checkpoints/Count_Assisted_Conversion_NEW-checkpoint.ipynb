{
 "cells": [
  {
   "cell_type": "code",
   "execution_count": 1,
   "metadata": {
    "scrolled": true
   },
   "outputs": [
    {
     "data": {
      "text/html": [
       "<div>\n",
       "<style scoped>\n",
       "    .dataframe tbody tr th:only-of-type {\n",
       "        vertical-align: middle;\n",
       "    }\n",
       "\n",
       "    .dataframe tbody tr th {\n",
       "        vertical-align: top;\n",
       "    }\n",
       "\n",
       "    .dataframe thead th {\n",
       "        text-align: right;\n",
       "    }\n",
       "</style>\n",
       "<table border=\"1\" class=\"dataframe\">\n",
       "  <thead>\n",
       "    <tr style=\"text-align: right;\">\n",
       "      <th></th>\n",
       "      <th>path</th>\n",
       "      <th>converters</th>\n",
       "      <th>uniques</th>\n",
       "    </tr>\n",
       "  </thead>\n",
       "  <tbody>\n",
       "    <tr>\n",
       "      <th>0</th>\n",
       "      <td>248214061 &gt; 248212309 &gt; 248212309 &gt; 248212309 ...</td>\n",
       "      <td>1</td>\n",
       "      <td>1</td>\n",
       "    </tr>\n",
       "    <tr>\n",
       "      <th>1</th>\n",
       "      <td>248409549 &gt; 248213500 &gt; 248049380 &gt; 248049380 ...</td>\n",
       "      <td>1</td>\n",
       "      <td>1</td>\n",
       "    </tr>\n",
       "    <tr>\n",
       "      <th>2</th>\n",
       "      <td>248048813 &gt; 248213494 &gt; 248048816 &gt; 248218150 ...</td>\n",
       "      <td>1</td>\n",
       "      <td>1</td>\n",
       "    </tr>\n",
       "    <tr>\n",
       "      <th>3</th>\n",
       "      <td>248209417 &gt; 248048819 &gt; 248050322 &gt; 248209417 ...</td>\n",
       "      <td>1</td>\n",
       "      <td>1</td>\n",
       "    </tr>\n",
       "    <tr>\n",
       "      <th>4</th>\n",
       "      <td>248216173 &gt; 248923654 &gt; 249473193 &gt; 249107156 ...</td>\n",
       "      <td>1</td>\n",
       "      <td>1</td>\n",
       "    </tr>\n",
       "  </tbody>\n",
       "</table>\n",
       "</div>"
      ],
      "text/plain": [
       "                                                path  converters  uniques\n",
       "0  248214061 > 248212309 > 248212309 > 248212309 ...           1        1\n",
       "1  248409549 > 248213500 > 248049380 > 248049380 ...           1        1\n",
       "2  248048813 > 248213494 > 248048816 > 248218150 ...           1        1\n",
       "3  248209417 > 248048819 > 248050322 > 248209417 ...           1        1\n",
       "4  248216173 > 248923654 > 249473193 > 249107156 ...           1        1"
      ]
     },
     "execution_count": 1,
     "metadata": {},
     "output_type": "execute_result"
    }
   ],
   "source": [
    "import pandas as pd\n",
    "df = pd.read_csv('./MarkovChainAttr_22783112_placementid_path_BQ.csv')\n",
    "df.head()"
   ]
  },
  {
   "cell_type": "code",
   "execution_count": 2,
   "metadata": {
    "scrolled": true
   },
   "outputs": [
    {
     "data": {
      "text/html": [
       "<div>\n",
       "<style scoped>\n",
       "    .dataframe tbody tr th:only-of-type {\n",
       "        vertical-align: middle;\n",
       "    }\n",
       "\n",
       "    .dataframe tbody tr th {\n",
       "        vertical-align: top;\n",
       "    }\n",
       "\n",
       "    .dataframe thead th {\n",
       "        text-align: right;\n",
       "    }\n",
       "</style>\n",
       "<table border=\"1\" class=\"dataframe\">\n",
       "  <thead>\n",
       "    <tr style=\"text-align: right;\">\n",
       "      <th></th>\n",
       "      <th>path</th>\n",
       "      <th>converters</th>\n",
       "      <th>uniques</th>\n",
       "    </tr>\n",
       "  </thead>\n",
       "  <tbody>\n",
       "    <tr>\n",
       "      <th>7220</th>\n",
       "      <td>248048816 &gt; 243942340</td>\n",
       "      <td>6</td>\n",
       "      <td>80</td>\n",
       "    </tr>\n",
       "    <tr>\n",
       "      <th>7221</th>\n",
       "      <td>248348714 &gt; 248409552 &gt; 248348714 &gt; 248213500 ...</td>\n",
       "      <td>1</td>\n",
       "      <td>1</td>\n",
       "    </tr>\n",
       "    <tr>\n",
       "      <th>7222</th>\n",
       "      <td>249093089 &gt; 249093089 &gt; 249093089 &gt; 249107117 ...</td>\n",
       "      <td>1</td>\n",
       "      <td>1</td>\n",
       "    </tr>\n",
       "    <tr>\n",
       "      <th>7223</th>\n",
       "      <td>248717978 &gt; 248216365 &gt; 243942340</td>\n",
       "      <td>1</td>\n",
       "      <td>3</td>\n",
       "    </tr>\n",
       "    <tr>\n",
       "      <th>7224</th>\n",
       "      <td>248214061 &gt; 248214061 &gt; 248214061 &gt; 248214061 ...</td>\n",
       "      <td>1</td>\n",
       "      <td>1</td>\n",
       "    </tr>\n",
       "  </tbody>\n",
       "</table>\n",
       "</div>"
      ],
      "text/plain": [
       "                                                   path  converters  uniques\n",
       "7220                              248048816 > 243942340           6       80\n",
       "7221  248348714 > 248409552 > 248348714 > 248213500 ...           1        1\n",
       "7222  249093089 > 249093089 > 249093089 > 249107117 ...           1        1\n",
       "7223                  248717978 > 248216365 > 243942340           1        3\n",
       "7224  248214061 > 248214061 > 248214061 > 248214061 ...           1        1"
      ]
     },
     "execution_count": 2,
     "metadata": {},
     "output_type": "execute_result"
    }
   ],
   "source": [
    "df.tail()"
   ]
  },
  {
   "cell_type": "code",
   "execution_count": 3,
   "metadata": {},
   "outputs": [
    {
     "data": {
      "text/plain": [
       "(7225, 3)"
      ]
     },
     "execution_count": 3,
     "metadata": {},
     "output_type": "execute_result"
    }
   ],
   "source": [
    "df.shape"
   ]
  },
  {
   "cell_type": "code",
   "execution_count": 4,
   "metadata": {},
   "outputs": [],
   "source": [
    "df2 = pd.read_csv('./placement_mapping.csv')\n",
    "placement_to_site_name = df2.set_index('placement_id').to_dict()['Targeting']"
   ]
  },
  {
   "cell_type": "code",
   "execution_count": 5,
   "metadata": {},
   "outputs": [],
   "source": [
    "from collections import defaultdict"
   ]
  },
  {
   "cell_type": "code",
   "execution_count": 6,
   "metadata": {},
   "outputs": [],
   "source": [
    "res = defaultdict(dict)\n",
    "line = 0\n",
    "df_0_converters_removed = df[df.converters > 0]\n",
    "for index, row in df_0_converters_removed.iterrows():\n",
    "    #if line > 15:\n",
    "        #break\n",
    "    line += 1\n",
    "    path, converters, uniques = row['path'], row['converters'], row['uniques']\n",
    "    placements = path.split('>')\n",
    "    if len(placements) <= 1:\n",
    "        continue\n",
    "    placements = [_.strip() for _ in placements]\n",
    "    final_placement = placements[-1]\n",
    "    assisted_placements = set(placements[0:-1])\n",
    "    for placement in assisted_placements:\n",
    "        if final_placement in res and placement in res[final_placement]:\n",
    "            res[final_placement][placement] += converters\n",
    "        else:\n",
    "            res[final_placement][placement] = converters\n",
    "            "
   ]
  },
  {
   "cell_type": "code",
   "execution_count": 7,
   "metadata": {},
   "outputs": [],
   "source": [
    "res = defaultdict(dict)\n",
    "line = 0\n",
    "df_0_converters_removed = df[df.converters > 0]\n",
    "for index, row in df_0_converters_removed.iterrows():\n",
    "    #if line > 15:\n",
    "        #break\n",
    "    line += 1\n",
    "    path, converters, uniques = row['path'], row['converters'], row['uniques']\n",
    "    placements = path.split('>')\n",
    "    if len(placements) <= 1:\n",
    "        continue\n",
    "    placements = [_.strip() for _ in placements]\n",
    "    final_placement = placements[-1]\n",
    "    try:\n",
    "        final_placement_site_name = placement_to_site_name[int(final_placement)]\n",
    "    except KeyError:\n",
    "        continue\n",
    "    assisted_placements_site_name = []\n",
    "    for placement in placements[0:-1]:\n",
    "        try:\n",
    "            site_name = placement_to_site_name[int(placement)]\n",
    "        except KeyError:\n",
    "            continue\n",
    "        assisted_placements_site_name.append(site_name)\n",
    "    if assisted_placements_site_name == []:\n",
    "        continue\n",
    "    assisted_placements_site_name = set(assisted_placements_site_name)\n",
    "    for assist_site_name in assisted_placements_site_name:\n",
    "        if final_placement_site_name in res and assist_site_name in res[final_placement_site_name]:\n",
    "            res[final_placement_site_name][assist_site_name] += converters\n",
    "        else:\n",
    "            res[final_placement_site_name][assist_site_name] = converters           "
   ]
  },
  {
   "cell_type": "code",
   "execution_count": 8,
   "metadata": {
    "scrolled": true
   },
   "outputs": [
    {
     "data": {
      "text/plain": [
       "defaultdict(dict,\n",
       "            {'GDN-RMKT': {'GDN-Affinity': 1256,\n",
       "              'GDN-IMS': 1251,\n",
       "              'GDN-RMKT': 2471,\n",
       "              'SEM': 850,\n",
       "              'Reddit': 102},\n",
       "             'GDN-Affinity': {'GDN-Affinity': 1162,\n",
       "              'GDN-IMS': 753,\n",
       "              'SEM': 121,\n",
       "              'GDN-RMKT': 85,\n",
       "              'Reddit': 22},\n",
       "             'GDN-IMS': {'GDN-Affinity': 616,\n",
       "              'GDN-IMS': 1114,\n",
       "              'SEM': 118,\n",
       "              'GDN-RMKT': 61,\n",
       "              'Reddit': 9},\n",
       "             'SEM': {'GDN-Affinity': 2073,\n",
       "              'GDN-IMS': 2046,\n",
       "              'SEM': 2689,\n",
       "              'Reddit': 166,\n",
       "              'GDN-RMKT': 1369},\n",
       "             'Reddit': {'GDN-IMS': 40,\n",
       "              'Reddit': 160,\n",
       "              'GDN-RMKT': 31,\n",
       "              'GDN-Affinity': 56,\n",
       "              'SEM': 20}})"
      ]
     },
     "execution_count": 8,
     "metadata": {},
     "output_type": "execute_result"
    }
   ],
   "source": [
    "res"
   ]
  },
  {
   "cell_type": "code",
   "execution_count": null,
   "metadata": {},
   "outputs": [],
   "source": []
  }
 ],
 "metadata": {
  "kernelspec": {
   "display_name": "Python 3",
   "language": "python",
   "name": "python3"
  },
  "language_info": {
   "codemirror_mode": {
    "name": "ipython",
    "version": 3
   },
   "file_extension": ".py",
   "mimetype": "text/x-python",
   "name": "python",
   "nbconvert_exporter": "python",
   "pygments_lexer": "ipython3",
   "version": "3.7.3"
  }
 },
 "nbformat": 4,
 "nbformat_minor": 2
}
